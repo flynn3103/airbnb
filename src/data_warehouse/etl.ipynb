{
 "cells": [
  {
   "cell_type": "code",
   "execution_count": 2,
   "metadata": {},
   "outputs": [
    {
     "name": "stdout",
     "output_type": "stream",
     "text": [
      "The autoreload extension is already loaded. To reload it, use:\n",
      "  %reload_ext autoreload\n"
     ]
    },
    {
     "data": {
      "text/plain": [
       "'2.9.3 (dt dec pq3 ext lo64)'"
      ]
     },
     "execution_count": 2,
     "metadata": {},
     "output_type": "execute_result"
    }
   ],
   "source": [
    "%load_ext autoreload\n",
    "%autoreload 2\n",
    "\n",
    "import pathlib\n",
    "import psycopg2\n",
    "import psycopg2.extras\n",
    "import pandas as pd\n",
    "\n",
    "from create_table import init_database_and_tables\n",
    "\n",
    "from sql_queries import (\n",
    "    review_check,\n",
    "    calendar_check,\n",
    "    listings_check,\n",
    "    reviewer_check,\n",
    "    time_check\n",
    ")\n",
    "\n",
    "psycopg2.__version__"
   ]
  },
  {
   "cell_type": "code",
   "execution_count": 3,
   "metadata": {},
   "outputs": [],
   "source": [
    "# import numpy as np\n",
    "# from psycopg2.extensions import register_adapter, AsIs\n",
    "\n",
    "# def addapt_numpy_array(numpy_array):\n",
    "#     return AsIs(tuple(numpy_array))\n",
    "\n",
    "# register_adapter(np.ndarray, addapt_numpy_array)"
   ]
  },
  {
   "cell_type": "code",
   "execution_count": 4,
   "metadata": {},
   "outputs": [],
   "source": [
    "init_database_and_tables()"
   ]
  },
  {
   "cell_type": "code",
   "execution_count": 5,
   "metadata": {},
   "outputs": [
    {
     "name": "stdout",
     "output_type": "stream",
     "text": [
      "PostgreSQL server information\n",
      "{'user': 'airbnb', 'channel_binding': 'prefer', 'dbname': 'airbnbdb', 'host': '172.21.0.2', 'port': '5432', 'options': '', 'sslmode': 'prefer', 'sslcompression': '0', 'sslsni': '1', 'ssl_min_protocol_version': 'TLSv1.2', 'gssencmode': 'prefer', 'krbsrvname': 'postgres', 'target_session_attrs': 'any'} \n",
      "\n"
     ]
    }
   ],
   "source": [
    "conn = psycopg2.connect(\"host=172.21.0.2 dbname=airbnbdb port=5432 user=airbnb password=airbnb\")\n",
    "\n",
    "print(\"PostgreSQL server information\")\n",
    "print(conn.get_dsn_parameters(), \"\\n\")\n",
    "\n",
    "cur = conn.cursor()"
   ]
  },
  {
   "cell_type": "code",
   "execution_count": 6,
   "metadata": {},
   "outputs": [],
   "source": [
    "def execute_values(conn, df, table):\n",
    "    \"\"\"\n",
    "    Using psycopg2.extras.execute_values() to insert the dataframe\n",
    "    \"\"\"\n",
    "    # Create a list of tupples from the dataframe values\n",
    "    tuples = [tuple(x) for x in df.to_numpy()]\n",
    "    # Comma-separated dataframe columns\n",
    "    cols = ','.join(list(df.columns))\n",
    "    # SQL quert to execute\n",
    "    query  = \"INSERT INTO %s(%s) VALUES %%s ON CONFLICT DO NOTHING\" % (table, cols)\n",
    "    cursor = conn.cursor()\n",
    "    try:\n",
    "        psycopg2.extras.execute_values(cursor, query, tuples)\n",
    "        conn.commit()\n",
    "    except (Exception, psycopg2.DatabaseError) as error:\n",
    "        print(\"Error: %s\" % error)\n",
    "        conn.rollback()\n",
    "        cursor.close()\n",
    "        return 1\n",
    "    print(\"execute_values() done\")\n",
    "    cursor.close()"
   ]
  },
  {
   "cell_type": "markdown",
   "metadata": {},
   "source": [
    "# Merge Data"
   ]
  },
  {
   "cell_type": "code",
   "execution_count": 7,
   "metadata": {},
   "outputs": [],
   "source": [
    "listings_March = pd.read_csv(\"../../data/listings.csv\")\n",
    "listings_June = pd.read_csv(\"../../data/listings_1.csv\")\n",
    "listings_September = pd.read_csv(\"../../data/listings_2.csv\")\n",
    "listings_December = pd.read_csv(\"../../data/listings_3.csv\")\n",
    "\n",
    "calendar_March = pd.read_csv(\"../../data/calendar.csv\")\n",
    "calendar_June = pd.read_csv(\"../../data/calendar_1.csv\")\n",
    "calendar_September = pd.read_csv(\"../../data/calendar_2.csv\")\n",
    "calendar_December = pd.read_csv(\"../../data/calendar_3.csv\")\n",
    "\n",
    "reivew_March = pd.read_csv(\"../../data/reviews.csv\")\n",
    "reivew_June = pd.read_csv(\"../../data/reviews_1.csv\")\n",
    "reivew_September = pd.read_csv(\"../../data/reviews_2.csv\")\n",
    "reivew_December = pd.read_csv(\"../../data/reviews_3.csv\")\n",
    "\n",
    "\n",
    "listings_list = [listings_March, listings_June, listings_September, listings_December]\n",
    "calendar_list = [calendar_March, calendar_June, calendar_September, calendar_December]\n",
    "review_list = [reivew_March, reivew_June, reivew_September, reivew_December]\n",
    "\n",
    "listings = pd.concat(listings_list)\n",
    "calendar = pd.concat(calendar_list)\n",
    "review = pd.concat(review_list)"
   ]
  },
  {
   "cell_type": "code",
   "execution_count": 8,
   "metadata": {},
   "outputs": [],
   "source": [
    "listings = listings.sample(n=50)\n",
    "calendar = calendar.sample(n=50)\n",
    "review = review.sample(n=50)"
   ]
  },
  {
   "cell_type": "code",
   "execution_count": 9,
   "metadata": {},
   "outputs": [
    {
     "name": "stdout",
     "output_type": "stream",
     "text": [
      "Shape of listings df: (50, 74)\n",
      "Shape of calendar df: (50, 7)\n",
      "Shape of reviews df: (50, 6)\n"
     ]
    }
   ],
   "source": [
    "print(\"Shape of listings df:\", listings.shape)\n",
    "print(\"Shape of calendar df:\", calendar.shape)\n",
    "print(\"Shape of reviews df:\", review.shape)"
   ]
  },
  {
   "cell_type": "markdown",
   "metadata": {},
   "source": [
    "# Reviewer table"
   ]
  },
  {
   "cell_type": "code",
   "execution_count": 10,
   "metadata": {},
   "outputs": [
    {
     "data": {
      "text/html": [
       "<div>\n",
       "<style scoped>\n",
       "    .dataframe tbody tr th:only-of-type {\n",
       "        vertical-align: middle;\n",
       "    }\n",
       "\n",
       "    .dataframe tbody tr th {\n",
       "        vertical-align: top;\n",
       "    }\n",
       "\n",
       "    .dataframe thead th {\n",
       "        text-align: right;\n",
       "    }\n",
       "</style>\n",
       "<table border=\"1\" class=\"dataframe\">\n",
       "  <thead>\n",
       "    <tr style=\"text-align: right;\">\n",
       "      <th></th>\n",
       "      <th>reviewer_id</th>\n",
       "      <th>reviewer_name</th>\n",
       "    </tr>\n",
       "  </thead>\n",
       "  <tbody>\n",
       "    <tr>\n",
       "      <th>257579</th>\n",
       "      <td>96553947</td>\n",
       "      <td>Callie</td>\n",
       "    </tr>\n",
       "    <tr>\n",
       "      <th>397905</th>\n",
       "      <td>7847454</td>\n",
       "      <td>Inna</td>\n",
       "    </tr>\n",
       "    <tr>\n",
       "      <th>228921</th>\n",
       "      <td>30899246</td>\n",
       "      <td>Rosanne</td>\n",
       "    </tr>\n",
       "    <tr>\n",
       "      <th>134403</th>\n",
       "      <td>42497908</td>\n",
       "      <td>Ronnie</td>\n",
       "    </tr>\n",
       "    <tr>\n",
       "      <th>20689</th>\n",
       "      <td>6172922</td>\n",
       "      <td>Violaine</td>\n",
       "    </tr>\n",
       "    <tr>\n",
       "      <th>320837</th>\n",
       "      <td>112907476</td>\n",
       "      <td>Iris</td>\n",
       "    </tr>\n",
       "    <tr>\n",
       "      <th>387127</th>\n",
       "      <td>7144280</td>\n",
       "      <td>Juul</td>\n",
       "    </tr>\n",
       "    <tr>\n",
       "      <th>316732</th>\n",
       "      <td>54785592</td>\n",
       "      <td>Océane</td>\n",
       "    </tr>\n",
       "    <tr>\n",
       "      <th>130863</th>\n",
       "      <td>133409981</td>\n",
       "      <td>Joshua</td>\n",
       "    </tr>\n",
       "    <tr>\n",
       "      <th>204974</th>\n",
       "      <td>73678451</td>\n",
       "      <td>Shannon</td>\n",
       "    </tr>\n",
       "    <tr>\n",
       "      <th>58034</th>\n",
       "      <td>44003728</td>\n",
       "      <td>Anushe</td>\n",
       "    </tr>\n",
       "    <tr>\n",
       "      <th>34740</th>\n",
       "      <td>3134959</td>\n",
       "      <td>Nathan</td>\n",
       "    </tr>\n",
       "    <tr>\n",
       "      <th>318711</th>\n",
       "      <td>64166622</td>\n",
       "      <td>Sharmala</td>\n",
       "    </tr>\n",
       "    <tr>\n",
       "      <th>8633</th>\n",
       "      <td>2882965</td>\n",
       "      <td>Ute</td>\n",
       "    </tr>\n",
       "    <tr>\n",
       "      <th>84134</th>\n",
       "      <td>54030550</td>\n",
       "      <td>Robert</td>\n",
       "    </tr>\n",
       "    <tr>\n",
       "      <th>177278</th>\n",
       "      <td>222264488</td>\n",
       "      <td>Irina</td>\n",
       "    </tr>\n",
       "    <tr>\n",
       "      <th>76372</th>\n",
       "      <td>26753544</td>\n",
       "      <td>Liza</td>\n",
       "    </tr>\n",
       "    <tr>\n",
       "      <th>280611</th>\n",
       "      <td>74281280</td>\n",
       "      <td>Horacio</td>\n",
       "    </tr>\n",
       "    <tr>\n",
       "      <th>21178</th>\n",
       "      <td>13195387</td>\n",
       "      <td>Sophie</td>\n",
       "    </tr>\n",
       "    <tr>\n",
       "      <th>161741</th>\n",
       "      <td>154728638</td>\n",
       "      <td>Sam</td>\n",
       "    </tr>\n",
       "    <tr>\n",
       "      <th>240131</th>\n",
       "      <td>66812235</td>\n",
       "      <td>Mariana</td>\n",
       "    </tr>\n",
       "    <tr>\n",
       "      <th>273540</th>\n",
       "      <td>273281428</td>\n",
       "      <td>Sajid</td>\n",
       "    </tr>\n",
       "    <tr>\n",
       "      <th>102730</th>\n",
       "      <td>60525209</td>\n",
       "      <td>Mohamed</td>\n",
       "    </tr>\n",
       "    <tr>\n",
       "      <th>313743</th>\n",
       "      <td>188055417</td>\n",
       "      <td>Flo</td>\n",
       "    </tr>\n",
       "    <tr>\n",
       "      <th>121510</th>\n",
       "      <td>37543385</td>\n",
       "      <td>Corentin</td>\n",
       "    </tr>\n",
       "    <tr>\n",
       "      <th>285472</th>\n",
       "      <td>2012800</td>\n",
       "      <td>Kevin</td>\n",
       "    </tr>\n",
       "    <tr>\n",
       "      <th>424988</th>\n",
       "      <td>26623843</td>\n",
       "      <td>Manon</td>\n",
       "    </tr>\n",
       "    <tr>\n",
       "      <th>402517</th>\n",
       "      <td>28508764</td>\n",
       "      <td>Gabriela</td>\n",
       "    </tr>\n",
       "    <tr>\n",
       "      <th>86547</th>\n",
       "      <td>116340116</td>\n",
       "      <td>Barry</td>\n",
       "    </tr>\n",
       "    <tr>\n",
       "      <th>178994</th>\n",
       "      <td>258014597</td>\n",
       "      <td>Tim</td>\n",
       "    </tr>\n",
       "    <tr>\n",
       "      <th>264830</th>\n",
       "      <td>260022045</td>\n",
       "      <td>Weronika</td>\n",
       "    </tr>\n",
       "    <tr>\n",
       "      <th>55773</th>\n",
       "      <td>85452084</td>\n",
       "      <td>Lucinda</td>\n",
       "    </tr>\n",
       "    <tr>\n",
       "      <th>132705</th>\n",
       "      <td>46590602</td>\n",
       "      <td>Sara</td>\n",
       "    </tr>\n",
       "    <tr>\n",
       "      <th>83453</th>\n",
       "      <td>76625147</td>\n",
       "      <td>Hanna</td>\n",
       "    </tr>\n",
       "    <tr>\n",
       "      <th>403936</th>\n",
       "      <td>16961652</td>\n",
       "      <td>Sebastian</td>\n",
       "    </tr>\n",
       "    <tr>\n",
       "      <th>264656</th>\n",
       "      <td>266613</td>\n",
       "      <td>Chris.</td>\n",
       "    </tr>\n",
       "    <tr>\n",
       "      <th>112428</th>\n",
       "      <td>236226578</td>\n",
       "      <td>Anne</td>\n",
       "    </tr>\n",
       "    <tr>\n",
       "      <th>66059</th>\n",
       "      <td>493502</td>\n",
       "      <td>Alizée, Nina And Jon</td>\n",
       "    </tr>\n",
       "    <tr>\n",
       "      <th>203859</th>\n",
       "      <td>45838694</td>\n",
       "      <td>Caroline</td>\n",
       "    </tr>\n",
       "    <tr>\n",
       "      <th>165693</th>\n",
       "      <td>56063733</td>\n",
       "      <td>Charles</td>\n",
       "    </tr>\n",
       "    <tr>\n",
       "      <th>171960</th>\n",
       "      <td>145929839</td>\n",
       "      <td>Steph</td>\n",
       "    </tr>\n",
       "    <tr>\n",
       "      <th>182464</th>\n",
       "      <td>37178355</td>\n",
       "      <td>Nikos</td>\n",
       "    </tr>\n",
       "    <tr>\n",
       "      <th>107374</th>\n",
       "      <td>9041216</td>\n",
       "      <td>Tiele</td>\n",
       "    </tr>\n",
       "    <tr>\n",
       "      <th>211931</th>\n",
       "      <td>29079118</td>\n",
       "      <td>Emily</td>\n",
       "    </tr>\n",
       "    <tr>\n",
       "      <th>288865</th>\n",
       "      <td>165415799</td>\n",
       "      <td>Jenn</td>\n",
       "    </tr>\n",
       "    <tr>\n",
       "      <th>109682</th>\n",
       "      <td>7017337</td>\n",
       "      <td>Laura</td>\n",
       "    </tr>\n",
       "    <tr>\n",
       "      <th>131826</th>\n",
       "      <td>25503154</td>\n",
       "      <td>Petra</td>\n",
       "    </tr>\n",
       "    <tr>\n",
       "      <th>62669</th>\n",
       "      <td>95405804</td>\n",
       "      <td>Porfirio</td>\n",
       "    </tr>\n",
       "    <tr>\n",
       "      <th>246937</th>\n",
       "      <td>6935996</td>\n",
       "      <td>Janna</td>\n",
       "    </tr>\n",
       "    <tr>\n",
       "      <th>204266</th>\n",
       "      <td>3367146</td>\n",
       "      <td>Sophie</td>\n",
       "    </tr>\n",
       "  </tbody>\n",
       "</table>\n",
       "</div>"
      ],
      "text/plain": [
       "        reviewer_id         reviewer_name\n",
       "257579     96553947                Callie\n",
       "397905      7847454                  Inna\n",
       "228921     30899246               Rosanne\n",
       "134403     42497908                Ronnie\n",
       "20689       6172922              Violaine\n",
       "320837    112907476                  Iris\n",
       "387127      7144280                  Juul\n",
       "316732     54785592                Océane\n",
       "130863    133409981                Joshua\n",
       "204974     73678451               Shannon\n",
       "58034      44003728                Anushe\n",
       "34740       3134959                Nathan\n",
       "318711     64166622              Sharmala\n",
       "8633        2882965                   Ute\n",
       "84134      54030550                Robert\n",
       "177278    222264488                 Irina\n",
       "76372      26753544                  Liza\n",
       "280611     74281280               Horacio\n",
       "21178      13195387                Sophie\n",
       "161741    154728638                   Sam\n",
       "240131     66812235               Mariana\n",
       "273540    273281428                 Sajid\n",
       "102730     60525209               Mohamed\n",
       "313743    188055417                   Flo\n",
       "121510     37543385              Corentin\n",
       "285472      2012800                 Kevin\n",
       "424988     26623843                 Manon\n",
       "402517     28508764              Gabriela\n",
       "86547     116340116                 Barry\n",
       "178994    258014597                   Tim\n",
       "264830    260022045              Weronika\n",
       "55773      85452084               Lucinda\n",
       "132705     46590602                  Sara\n",
       "83453      76625147                 Hanna\n",
       "403936     16961652             Sebastian\n",
       "264656       266613                Chris.\n",
       "112428    236226578                  Anne\n",
       "66059        493502  Alizée, Nina And Jon\n",
       "203859     45838694              Caroline\n",
       "165693     56063733               Charles\n",
       "171960    145929839                 Steph\n",
       "182464     37178355                 Nikos\n",
       "107374      9041216                 Tiele\n",
       "211931     29079118                 Emily\n",
       "288865    165415799                  Jenn\n",
       "109682      7017337                 Laura\n",
       "131826     25503154                 Petra\n",
       "62669      95405804              Porfirio\n",
       "246937      6935996                 Janna\n",
       "204266      3367146                Sophie"
      ]
     },
     "execution_count": 10,
     "metadata": {},
     "output_type": "execute_result"
    }
   ],
   "source": [
    "reviewer_table = review[[\"reviewer_id\", \"reviewer_name\"]]\n",
    "reviewer_table"
   ]
  },
  {
   "cell_type": "code",
   "execution_count": 11,
   "metadata": {},
   "outputs": [
    {
     "data": {
      "text/plain": [
       "reviewer_id      0\n",
       "reviewer_name    0\n",
       "dtype: int64"
      ]
     },
     "execution_count": 11,
     "metadata": {},
     "output_type": "execute_result"
    }
   ],
   "source": [
    "reviewer_table.isna().sum()"
   ]
  },
  {
   "cell_type": "code",
   "execution_count": 12,
   "metadata": {},
   "outputs": [
    {
     "name": "stdout",
     "output_type": "stream",
     "text": [
      "execute_values() done\n"
     ]
    }
   ],
   "source": [
    "execute_values(conn, reviewer_table, table='reviewer')"
   ]
  },
  {
   "cell_type": "code",
   "execution_count": 13,
   "metadata": {},
   "outputs": [
    {
     "name": "stdout",
     "output_type": "stream",
     "text": [
      "(96553947, 'Callie')\n",
      "(7847454, 'Inna')\n",
      "(30899246, 'Rosanne')\n",
      "(42497908, 'Ronnie')\n",
      "(6172922, 'Violaine')\n"
     ]
    }
   ],
   "source": [
    "cur.execute(reviewer_check)\n",
    "\n",
    "for row in cur.fetchall():\n",
    "    print(row)"
   ]
  },
  {
   "cell_type": "markdown",
   "metadata": {},
   "source": [
    "# Time table"
   ]
  },
  {
   "cell_type": "code",
   "execution_count": 14,
   "metadata": {},
   "outputs": [
    {
     "name": "stderr",
     "output_type": "stream",
     "text": [
      "/tmp/ipykernel_17248/1529482266.py:2: SettingWithCopyWarning: \n",
      "A value is trying to be set on a copy of a slice from a DataFrame.\n",
      "Try using .loc[row_indexer,col_indexer] = value instead\n",
      "\n",
      "See the caveats in the documentation: https://pandas.pydata.org/pandas-docs/stable/user_guide/indexing.html#returning-a-view-versus-a-copy\n",
      "  time_table[\"date\"] = pd.to_datetime(time_table.date, format='%Y-%m-%d')\n"
     ]
    }
   ],
   "source": [
    "time_table = calendar[[\"date\"]]\n",
    "time_table[\"date\"] = pd.to_datetime(time_table.date, format='%Y-%m-%d')"
   ]
  },
  {
   "cell_type": "code",
   "execution_count": 15,
   "metadata": {},
   "outputs": [],
   "source": [
    "t = time_table['date']\n",
    "dt = t.dt"
   ]
  },
  {
   "cell_type": "code",
   "execution_count": 16,
   "metadata": {},
   "outputs": [],
   "source": [
    "time_data = (t, dt.day, dt.month, dt.year, dt.isocalendar().week, dt.weekday)\n",
    "column_labels = (\"date_time\", \"day\", \"month\", \"year\", \"week\",\"dayofweek\")"
   ]
  },
  {
   "cell_type": "code",
   "execution_count": 17,
   "metadata": {},
   "outputs": [
    {
     "data": {
      "text/html": [
       "<div>\n",
       "<style scoped>\n",
       "    .dataframe tbody tr th:only-of-type {\n",
       "        vertical-align: middle;\n",
       "    }\n",
       "\n",
       "    .dataframe tbody tr th {\n",
       "        vertical-align: top;\n",
       "    }\n",
       "\n",
       "    .dataframe thead th {\n",
       "        text-align: right;\n",
       "    }\n",
       "</style>\n",
       "<table border=\"1\" class=\"dataframe\">\n",
       "  <thead>\n",
       "    <tr style=\"text-align: right;\">\n",
       "      <th></th>\n",
       "      <th>date_time</th>\n",
       "      <th>day</th>\n",
       "      <th>month</th>\n",
       "      <th>year</th>\n",
       "      <th>week</th>\n",
       "      <th>dayofweek</th>\n",
       "    </tr>\n",
       "  </thead>\n",
       "  <tbody>\n",
       "    <tr>\n",
       "      <th>1847982</th>\n",
       "      <td>2022-04-12</td>\n",
       "      <td>12</td>\n",
       "      <td>4</td>\n",
       "      <td>2022</td>\n",
       "      <td>15</td>\n",
       "      <td>1</td>\n",
       "    </tr>\n",
       "    <tr>\n",
       "      <th>3376195</th>\n",
       "      <td>2022-01-24</td>\n",
       "      <td>24</td>\n",
       "      <td>1</td>\n",
       "      <td>2022</td>\n",
       "      <td>4</td>\n",
       "      <td>0</td>\n",
       "    </tr>\n",
       "    <tr>\n",
       "      <th>3403531</th>\n",
       "      <td>2021-07-14</td>\n",
       "      <td>14</td>\n",
       "      <td>7</td>\n",
       "      <td>2021</td>\n",
       "      <td>28</td>\n",
       "      <td>2</td>\n",
       "    </tr>\n",
       "    <tr>\n",
       "      <th>5248394</th>\n",
       "      <td>2022-08-16</td>\n",
       "      <td>16</td>\n",
       "      <td>8</td>\n",
       "      <td>2022</td>\n",
       "      <td>33</td>\n",
       "      <td>1</td>\n",
       "    </tr>\n",
       "    <tr>\n",
       "      <th>352340</th>\n",
       "      <td>2021-07-31</td>\n",
       "      <td>31</td>\n",
       "      <td>7</td>\n",
       "      <td>2021</td>\n",
       "      <td>30</td>\n",
       "      <td>5</td>\n",
       "    </tr>\n",
       "  </tbody>\n",
       "</table>\n",
       "</div>"
      ],
      "text/plain": [
       "         date_time  day  month  year  week  dayofweek\n",
       "1847982 2022-04-12   12      4  2022    15          1\n",
       "3376195 2022-01-24   24      1  2022     4          0\n",
       "3403531 2021-07-14   14      7  2021    28          2\n",
       "5248394 2022-08-16   16      8  2022    33          1\n",
       "352340  2021-07-31   31      7  2021    30          5"
      ]
     },
     "execution_count": 17,
     "metadata": {},
     "output_type": "execute_result"
    }
   ],
   "source": [
    "time_df = pd.DataFrame({k: v for k, v in zip(column_labels, time_data)})\n",
    "time_df.head()"
   ]
  },
  {
   "cell_type": "code",
   "execution_count": 18,
   "metadata": {},
   "outputs": [
    {
     "name": "stdout",
     "output_type": "stream",
     "text": [
      "execute_values() done\n"
     ]
    }
   ],
   "source": [
    "execute_values(conn, time_df, table='time')"
   ]
  },
  {
   "cell_type": "code",
   "execution_count": 19,
   "metadata": {},
   "outputs": [
    {
     "name": "stdout",
     "output_type": "stream",
     "text": [
      "(datetime.datetime(2022, 4, 12, 0, 0), 12, 4, 2022, 15, 1)\n",
      "(datetime.datetime(2022, 1, 24, 0, 0), 24, 1, 2022, 4, 0)\n",
      "(datetime.datetime(2021, 7, 14, 0, 0), 14, 7, 2021, 28, 2)\n",
      "(datetime.datetime(2022, 8, 16, 0, 0), 16, 8, 2022, 33, 1)\n",
      "(datetime.datetime(2021, 7, 31, 0, 0), 31, 7, 2021, 30, 5)\n"
     ]
    }
   ],
   "source": [
    "cur.execute(time_check)\n",
    "\n",
    "for row in cur.fetchall():\n",
    "    print(row)"
   ]
  },
  {
   "cell_type": "markdown",
   "metadata": {},
   "source": [
    "# Listings"
   ]
  },
  {
   "cell_type": "code",
   "execution_count": 20,
   "metadata": {},
   "outputs": [],
   "source": [
    "col = [ 'id',\n",
    "        'name' ,\n",
    "        'room_type',\n",
    "        'number_of_reviews' ,\n",
    "        'review_scores_rating',\n",
    "        'review_scores_value',\n",
    "        'host_id' ,\n",
    "        'host_name' ,\n",
    "        'host_is_superhost',\n",
    "        'host_listings_count' ,\n",
    "        'neighbourhood',\n",
    "        'property_type' ,\n",
    "        'accommodates' ,\n",
    "        'availability_30' ,\n",
    "        'bathrooms_text',\n",
    "        'bedrooms' ,\n",
    "        'beds',\n",
    "        'price' ,\n",
    "        'minimum_nights',\n",
    "        'maximum_nights',\n",
    "        ]\n",
    "\n",
    "listings_table = listings[col]"
   ]
  },
  {
   "cell_type": "code",
   "execution_count": 21,
   "metadata": {},
   "outputs": [
    {
     "name": "stderr",
     "output_type": "stream",
     "text": [
      "/tmp/ipykernel_17248/3008764699.py:6: SettingWithCopyWarning: \n",
      "A value is trying to be set on a copy of a slice from a DataFrame.\n",
      "Try using .loc[row_indexer,col_indexer] = value instead\n",
      "\n",
      "See the caveats in the documentation: https://pandas.pydata.org/pandas-docs/stable/user_guide/indexing.html#returning-a-view-versus-a-copy\n",
      "  listings_table[col] = listings_table[col].apply(lambda x: str(re.compile('[a-zA-Z]').sub('', str(x))))\n",
      "/tmp/ipykernel_17248/3008764699.py:7: SettingWithCopyWarning: \n",
      "A value is trying to be set on a copy of a slice from a DataFrame.\n",
      "Try using .loc[row_indexer,col_indexer] = value instead\n",
      "\n",
      "See the caveats in the documentation: https://pandas.pydata.org/pandas-docs/stable/user_guide/indexing.html#returning-a-view-versus-a-copy\n",
      "  listings_table[col] = listings_table[col].apply(lambda x: str(re.compile(' ').sub('', str(x))))\n"
     ]
    }
   ],
   "source": [
    "# Importing regex\n",
    "import re\n",
    "\n",
    "bath = [\"bathrooms_text\"]\n",
    "for col in bath:\n",
    "    listings_table[col] = listings_table[col].apply(lambda x: str(re.compile('[a-zA-Z]').sub('', str(x))))\n",
    "    listings_table[col] = listings_table[col].apply(lambda x: str(re.compile(' ').sub('', str(x))))"
   ]
  },
  {
   "cell_type": "code",
   "execution_count": 22,
   "metadata": {},
   "outputs": [
    {
     "name": "stderr",
     "output_type": "stream",
     "text": [
      "/tmp/ipykernel_17248/4152102839.py:1: SettingWithCopyWarning: \n",
      "A value is trying to be set on a copy of a slice from a DataFrame.\n",
      "Try using .loc[row_indexer,col_indexer] = value instead\n",
      "\n",
      "See the caveats in the documentation: https://pandas.pydata.org/pandas-docs/stable/user_guide/indexing.html#returning-a-view-versus-a-copy\n",
      "  listings_table[\"bathrooms\"] = pd.to_numeric(listings_table[\"bathrooms_text\"],errors='coerce')\n",
      "/tmp/ipykernel_17248/4152102839.py:2: SettingWithCopyWarning: \n",
      "A value is trying to be set on a copy of a slice from a DataFrame\n",
      "\n",
      "See the caveats in the documentation: https://pandas.pydata.org/pandas-docs/stable/user_guide/indexing.html#returning-a-view-versus-a-copy\n",
      "  listings_table.drop(['bathrooms_text'], axis=1, inplace=True)\n"
     ]
    }
   ],
   "source": [
    "listings_table[\"bathrooms\"] = pd.to_numeric(listings_table[\"bathrooms_text\"],errors='coerce')\n",
    "listings_table.drop(['bathrooms_text'], axis=1, inplace=True)"
   ]
  },
  {
   "cell_type": "code",
   "execution_count": 23,
   "metadata": {},
   "outputs": [
    {
     "name": "stderr",
     "output_type": "stream",
     "text": [
      "/tmp/ipykernel_17248/4006336846.py:3: SettingWithCopyWarning: \n",
      "A value is trying to be set on a copy of a slice from a DataFrame.\n",
      "Try using .loc[row_indexer,col_indexer] = value instead\n",
      "\n",
      "See the caveats in the documentation: https://pandas.pydata.org/pandas-docs/stable/user_guide/indexing.html#returning-a-view-versus-a-copy\n",
      "  listings_table['price'] = listings_table['price'].str.replace(',', '')\n",
      "/tmp/ipykernel_17248/4006336846.py:4: FutureWarning: The default value of regex will change from True to False in a future version. In addition, single character regular expressions will *not* be treated as literal strings when regex=True.\n",
      "  listings_table['price'] = listings_table['price'].str.replace('$', '')\n",
      "/tmp/ipykernel_17248/4006336846.py:4: SettingWithCopyWarning: \n",
      "A value is trying to be set on a copy of a slice from a DataFrame.\n",
      "Try using .loc[row_indexer,col_indexer] = value instead\n",
      "\n",
      "See the caveats in the documentation: https://pandas.pydata.org/pandas-docs/stable/user_guide/indexing.html#returning-a-view-versus-a-copy\n",
      "  listings_table['price'] = listings_table['price'].str.replace('$', '')\n",
      "/tmp/ipykernel_17248/4006336846.py:5: SettingWithCopyWarning: \n",
      "A value is trying to be set on a copy of a slice from a DataFrame.\n",
      "Try using .loc[row_indexer,col_indexer] = value instead\n",
      "\n",
      "See the caveats in the documentation: https://pandas.pydata.org/pandas-docs/stable/user_guide/indexing.html#returning-a-view-versus-a-copy\n",
      "  listings_table['price'] = listings_table['price'].astype(float)\n"
     ]
    }
   ],
   "source": [
    "# The price fields in our data frame\n",
    "\n",
    "listings_table['price'] = listings_table['price'].str.replace(',', '')\n",
    "listings_table['price'] = listings_table['price'].str.replace('$', '')\n",
    "listings_table['price'] = listings_table['price'].astype(float)"
   ]
  },
  {
   "cell_type": "code",
   "execution_count": 24,
   "metadata": {},
   "outputs": [
    {
     "name": "stderr",
     "output_type": "stream",
     "text": [
      "/home/flynn/.cache/pypoetry/virtualenvs/airbnb-EHIZReGs-py3.9/lib/python3.9/site-packages/numpy/lib/nanfunctions.py:1216: RuntimeWarning: Mean of empty slice\n",
      "  return np.nanmean(a, axis, out=out, keepdims=keepdims)\n"
     ]
    }
   ],
   "source": [
    "for col in ['bathrooms', 'bedrooms', 'beds']:\n",
    "    listings[col].fillna(listings[col].median(), inplace=True)"
   ]
  },
  {
   "cell_type": "code",
   "execution_count": 25,
   "metadata": {},
   "outputs": [
    {
     "data": {
      "text/plain": [
       "id                        int64\n",
       "name                     object\n",
       "room_type                object\n",
       "number_of_reviews         int64\n",
       "review_scores_rating    float64\n",
       "review_scores_value     float64\n",
       "host_id                   int64\n",
       "host_name                object\n",
       "host_is_superhost        object\n",
       "host_listings_count     float64\n",
       "neighbourhood            object\n",
       "property_type            object\n",
       "accommodates              int64\n",
       "availability_30           int64\n",
       "bedrooms                float64\n",
       "beds                    float64\n",
       "price                   float64\n",
       "minimum_nights            int64\n",
       "maximum_nights            int64\n",
       "bathrooms               float64\n",
       "dtype: object"
      ]
     },
     "execution_count": 25,
     "metadata": {},
     "output_type": "execute_result"
    }
   ],
   "source": [
    "listings_table.dtypes"
   ]
  },
  {
   "cell_type": "code",
   "execution_count": 26,
   "metadata": {},
   "outputs": [
    {
     "name": "stdout",
     "output_type": "stream",
     "text": [
      "execute_values() done\n"
     ]
    }
   ],
   "source": [
    "execute_values(conn, listings_table, table='listings')"
   ]
  },
  {
   "cell_type": "code",
   "execution_count": 27,
   "metadata": {},
   "outputs": [
    {
     "name": "stdout",
     "output_type": "stream",
     "text": [
      "(18820779, 'Fascinating private canal view loft', 'Entire home/apt', 0, Decimal('NaN'), Decimal('NaN'), 130896439, 'Emma', 'f', Decimal('5.0'), 'Amsterdam, Noord-Holland, Netherlands', 'Entire apartment', 2, 0, Decimal('NaN'), Decimal('1.0'), Decimal('250.0'), 7, 1125, Decimal('1.0'))\n",
      "(41334300, 'Ground Floor Apartment in the heart of Amsterdam', 'Entire home/apt', 3, Decimal('5.0'), Decimal('5.0'), 22318017, 'Bella', 'f', Decimal('0.0'), 'Amsterdam, Noord-Holland, Netherlands', 'Entire rental unit', 4, 5, Decimal('2.0'), Decimal('2.0'), Decimal('350.0'), 2, 1125, Decimal('1.0'))\n",
      "(13964167, 'Cosy appartment 100m2 in quiet area of Amsterdam', 'Entire home/apt', 1, Decimal('100.0'), Decimal('10.0'), 83223419, 'Jelle', 'f', Decimal('1.0'), 'Amsterdam, Noord-Holland, Netherlands', 'Entire townhouse', 3, 0, Decimal('2.0'), Decimal('3.0'), Decimal('99.0'), 3, 10, Decimal('1.0'))\n",
      "(35859555, 'Spacious 4P Nassau canal apartment', 'Private room', 8, Decimal('4.5'), Decimal('4.13'), 269726966, 'Adam', 'f', Decimal('0.0'), 'NaN', 'Private room in bed and breakfast', 4, 1, Decimal('2.0'), Decimal('3.0'), Decimal('575.0'), 1, 1125, Decimal('1.0'))\n",
      "(18410648, 'Elegant city retreat on canal', 'Private room', 22, Decimal('4.8'), Decimal('4.8'), 36073241, 'Shuchen', 'f', Decimal('1.0'), 'Amsterdam, Noord-Holland, Netherlands', 'Private room in loft', 2, 0, Decimal('1.0'), Decimal('1.0'), Decimal('130.0'), 3, 14, Decimal('1.5'))\n"
     ]
    }
   ],
   "source": [
    "cur.execute(listings_check)\n",
    "\n",
    "for row in cur.fetchall():\n",
    "    print(row)"
   ]
  },
  {
   "cell_type": "markdown",
   "metadata": {},
   "source": [
    "# Calendar"
   ]
  },
  {
   "cell_type": "code",
   "execution_count": 28,
   "metadata": {},
   "outputs": [],
   "source": [
    "col = ['listing_id',\n",
    "        'date',\n",
    "        'available',\n",
    "        'adjusted_price']\n",
    "\n",
    "calendar_table = calendar[col]"
   ]
  },
  {
   "cell_type": "code",
   "execution_count": 29,
   "metadata": {},
   "outputs": [
    {
     "name": "stderr",
     "output_type": "stream",
     "text": [
      "/tmp/ipykernel_17248/2756646630.py:2: FutureWarning: The default value of regex will change from True to False in a future version. In addition, single character regular expressions will *not* be treated as literal strings when regex=True.\n",
      "  calendar['adjusted_price'] = calendar['adjusted_price'].str.replace('$', '')\n"
     ]
    }
   ],
   "source": [
    "calendar['adjusted_price'] = calendar['adjusted_price'].str.replace(',', '')\n",
    "calendar['adjusted_price'] = calendar['adjusted_price'].str.replace('$', '')\n",
    "calendar['price'] = calendar['adjusted_price'].astype(float)"
   ]
  },
  {
   "cell_type": "code",
   "execution_count": 30,
   "metadata": {},
   "outputs": [],
   "source": [
    "calendar_table = calendar[[\"listing_id\",\"date\",\"available\",\"price\"]]"
   ]
  },
  {
   "cell_type": "code",
   "execution_count": 31,
   "metadata": {},
   "outputs": [
    {
     "data": {
      "text/html": [
       "<div>\n",
       "<style scoped>\n",
       "    .dataframe tbody tr th:only-of-type {\n",
       "        vertical-align: middle;\n",
       "    }\n",
       "\n",
       "    .dataframe tbody tr th {\n",
       "        vertical-align: top;\n",
       "    }\n",
       "\n",
       "    .dataframe thead th {\n",
       "        text-align: right;\n",
       "    }\n",
       "</style>\n",
       "<table border=\"1\" class=\"dataframe\">\n",
       "  <thead>\n",
       "    <tr style=\"text-align: right;\">\n",
       "      <th></th>\n",
       "      <th>listing_id</th>\n",
       "      <th>date</th>\n",
       "      <th>available</th>\n",
       "      <th>price</th>\n",
       "    </tr>\n",
       "  </thead>\n",
       "  <tbody>\n",
       "    <tr>\n",
       "      <th>1847982</th>\n",
       "      <td>50950057</td>\n",
       "      <td>2022-04-12</td>\n",
       "      <td>f</td>\n",
       "      <td>70.0</td>\n",
       "    </tr>\n",
       "    <tr>\n",
       "      <th>3376195</th>\n",
       "      <td>20486092</td>\n",
       "      <td>2022-01-24</td>\n",
       "      <td>f</td>\n",
       "      <td>130.0</td>\n",
       "    </tr>\n",
       "    <tr>\n",
       "      <th>3403531</th>\n",
       "      <td>19399581</td>\n",
       "      <td>2021-07-14</td>\n",
       "      <td>f</td>\n",
       "      <td>135.0</td>\n",
       "    </tr>\n",
       "    <tr>\n",
       "      <th>5248394</th>\n",
       "      <td>40894292</td>\n",
       "      <td>2022-08-16</td>\n",
       "      <td>f</td>\n",
       "      <td>105.0</td>\n",
       "    </tr>\n",
       "    <tr>\n",
       "      <th>352340</th>\n",
       "      <td>1954182</td>\n",
       "      <td>2021-07-31</td>\n",
       "      <td>t</td>\n",
       "      <td>300.0</td>\n",
       "    </tr>\n",
       "  </tbody>\n",
       "</table>\n",
       "</div>"
      ],
      "text/plain": [
       "         listing_id        date available  price\n",
       "1847982    50950057  2022-04-12         f   70.0\n",
       "3376195    20486092  2022-01-24         f  130.0\n",
       "3403531    19399581  2021-07-14         f  135.0\n",
       "5248394    40894292  2022-08-16         f  105.0\n",
       "352340      1954182  2021-07-31         t  300.0"
      ]
     },
     "execution_count": 31,
     "metadata": {},
     "output_type": "execute_result"
    }
   ],
   "source": [
    "calendar_table.head()"
   ]
  },
  {
   "cell_type": "code",
   "execution_count": 32,
   "metadata": {},
   "outputs": [
    {
     "name": "stdout",
     "output_type": "stream",
     "text": [
      "execute_values() done\n"
     ]
    }
   ],
   "source": [
    "execute_values(conn, calendar_table, table='calendar')"
   ]
  },
  {
   "cell_type": "code",
   "execution_count": 33,
   "metadata": {},
   "outputs": [
    {
     "name": "stdout",
     "output_type": "stream",
     "text": [
      "(50950057, datetime.datetime(2022, 4, 12, 0, 0), 'f', Decimal('70.0'))\n",
      "(20486092, datetime.datetime(2022, 1, 24, 0, 0), 'f', Decimal('130.0'))\n",
      "(19399581, datetime.datetime(2021, 7, 14, 0, 0), 'f', Decimal('135.0'))\n",
      "(40894292, datetime.datetime(2022, 8, 16, 0, 0), 'f', Decimal('105.0'))\n",
      "(1954182, datetime.datetime(2021, 7, 31, 0, 0), 't', Decimal('300.0'))\n"
     ]
    }
   ],
   "source": [
    "cur.execute(calendar_check)\n",
    "\n",
    "for row in cur.fetchall():\n",
    "    print(row)"
   ]
  },
  {
   "cell_type": "markdown",
   "metadata": {},
   "source": [
    "# Review"
   ]
  },
  {
   "cell_type": "code",
   "execution_count": 34,
   "metadata": {},
   "outputs": [],
   "source": [
    "col = ['listing_id',\n",
    "        'id',\n",
    "        'date',\n",
    "        'comments']\n",
    "\n",
    "review_table = review[col]"
   ]
  },
  {
   "cell_type": "code",
   "execution_count": 35,
   "metadata": {},
   "outputs": [],
   "source": [
    "review_table = review_table.rename(columns={ 'id': 'review_id' })\n",
    "                                           "
   ]
  },
  {
   "cell_type": "code",
   "execution_count": 36,
   "metadata": {},
   "outputs": [
    {
     "data": {
      "text/html": [
       "<div>\n",
       "<style scoped>\n",
       "    .dataframe tbody tr th:only-of-type {\n",
       "        vertical-align: middle;\n",
       "    }\n",
       "\n",
       "    .dataframe tbody tr th {\n",
       "        vertical-align: top;\n",
       "    }\n",
       "\n",
       "    .dataframe thead th {\n",
       "        text-align: right;\n",
       "    }\n",
       "</style>\n",
       "<table border=\"1\" class=\"dataframe\">\n",
       "  <thead>\n",
       "    <tr style=\"text-align: right;\">\n",
       "      <th></th>\n",
       "      <th>listing_id</th>\n",
       "      <th>review_id</th>\n",
       "      <th>date</th>\n",
       "      <th>comments</th>\n",
       "    </tr>\n",
       "  </thead>\n",
       "  <tbody>\n",
       "    <tr>\n",
       "      <th>257579</th>\n",
       "      <td>14996718</td>\n",
       "      <td>149850986</td>\n",
       "      <td>2017-05-06</td>\n",
       "      <td>Staying at Lara and Damir's apartment was perf...</td>\n",
       "    </tr>\n",
       "    <tr>\n",
       "      <th>397905</th>\n",
       "      <td>28307853</td>\n",
       "      <td>352428628</td>\n",
       "      <td>2018-11-25</td>\n",
       "      <td>Nice location.</td>\n",
       "    </tr>\n",
       "    <tr>\n",
       "      <th>228921</th>\n",
       "      <td>12897197</td>\n",
       "      <td>169354089</td>\n",
       "      <td>2017-07-12</td>\n",
       "      <td>Mark and Andrea’s apartment was a wonderful ho...</td>\n",
       "    </tr>\n",
       "    <tr>\n",
       "      <th>134403</th>\n",
       "      <td>5207981</td>\n",
       "      <td>45864093</td>\n",
       "      <td>2015-09-06</td>\n",
       "      <td>Carlijn and Joep were simply amazing! This was...</td>\n",
       "    </tr>\n",
       "    <tr>\n",
       "      <th>20689</th>\n",
       "      <td>608432</td>\n",
       "      <td>13065701</td>\n",
       "      <td>2014-05-19</td>\n",
       "      <td>L'appartement de Gordon et Amy est extrêmement...</td>\n",
       "    </tr>\n",
       "  </tbody>\n",
       "</table>\n",
       "</div>"
      ],
      "text/plain": [
       "        listing_id  review_id        date  \\\n",
       "257579    14996718  149850986  2017-05-06   \n",
       "397905    28307853  352428628  2018-11-25   \n",
       "228921    12897197  169354089  2017-07-12   \n",
       "134403     5207981   45864093  2015-09-06   \n",
       "20689       608432   13065701  2014-05-19   \n",
       "\n",
       "                                                 comments  \n",
       "257579  Staying at Lara and Damir's apartment was perf...  \n",
       "397905                                     Nice location.  \n",
       "228921  Mark and Andrea’s apartment was a wonderful ho...  \n",
       "134403  Carlijn and Joep were simply amazing! This was...  \n",
       "20689   L'appartement de Gordon et Amy est extrêmement...  "
      ]
     },
     "execution_count": 36,
     "metadata": {},
     "output_type": "execute_result"
    }
   ],
   "source": [
    "review_table.head()"
   ]
  },
  {
   "cell_type": "code",
   "execution_count": 37,
   "metadata": {},
   "outputs": [
    {
     "name": "stdout",
     "output_type": "stream",
     "text": [
      "execute_values() done\n"
     ]
    }
   ],
   "source": [
    "execute_values(conn, review_table, table='review')"
   ]
  },
  {
   "cell_type": "code",
   "execution_count": 38,
   "metadata": {},
   "outputs": [
    {
     "name": "stdout",
     "output_type": "stream",
     "text": [
      "(14996718, 149850986, datetime.datetime(2017, 5, 6, 0, 0), \"Staying at Lara and Damir's apartment was perfect for my friend's and mine trip to Amsterdam. Even though they were in Croatia when we arrived, a very kind friend of theirs met us at the apartment to let us in. The walk to the city center was beautiful and the market next to the apartment was a great way to spend a chunk of the day! I would recommend Lara and Damir's apartment to anyone and their hospitality was above and beyond!! \")\n",
      "(28307853, 352428628, datetime.datetime(2018, 11, 25, 0, 0), 'Nice location.')\n",
      "(12897197, 169354089, datetime.datetime(2017, 7, 12, 0, 0), 'Mark and Andrea’s apartment was a wonderful home-away-from-home.  The apartment is comfortable, spacious, very well appointed, and beautiful, filled with gorgeous art and an amazing collection of contemporary fiction.  The kitchen is very well appointed, and the up-to-date appliances are easy to use.  The location is perfect.  It’s steps away from public transit and in easy walking distance of numerous sites.  There are grocery stores and many restaurants and cafes in the immediate neighborhood  Mark and Andrea were perfect hosts.  They were always easy to communicate with, they responded immediately to any questions, and were very attentive.  Highly recommended!!\\n')\n",
      "(5207981, 45864093, datetime.datetime(2015, 9, 6, 0, 0), 'Carlijn and Joep were simply amazing! This was my first experience with Airbnb and they made it a great one. The place was exactly as shown, beautiful and comfortable. Wonderfully kept and extremely convenient to many of the local hot spots. \\r\\n\\r\\nAdditionally they went above and beyond in making us feel comfortable and welcomed. We actually had a bit of a problem with the taxi driver dropping us off at the wrong location; they called us a new cab and provided direct instructions to the driver to avoid further confusion. Overall just a wonderful couple, providing a great experience to travelers. ')\n",
      "(608432, 13065701, datetime.datetime(2014, 5, 19, 0, 0), \"L'appartement de Gordon et Amy est extrêmement bien localisé.\\r<br/>Au sein du quartier Jordan, il y a une ambiance bobo, avec de nombreuses petites boutiques, des marchés, une ambiance calme. Donc quartier agréable.\\r<br/>Près de la gare, en face d'un supermarché, et d'un glacier, donc emplacement pratique. \\r<br/>Merci pour les cronuts au petit déjeuner:)\\r<br/>Chambre conforme à la photo. \\r<br/>Le partage de la salle de bain-wc sur le palier hors de la chambre a été ok. \")\n"
     ]
    }
   ],
   "source": [
    "cur.execute(review_check)\n",
    "\n",
    "for row in cur.fetchall():\n",
    "    print(row)"
   ]
  },
  {
   "cell_type": "code",
   "execution_count": 40,
   "metadata": {},
   "outputs": [],
   "source": [
    "conn.close ()"
   ]
  }
 ],
 "metadata": {
  "interpreter": {
   "hash": "246db97e1b28c1ad6970c1454fc9a6ffe0a039b45cbb6d78e6e9157e5d2ec3af"
  },
  "kernelspec": {
   "display_name": "Python 3.9.5 ('airbnb-EHIZReGs-py3.9')",
   "language": "python",
   "name": "python3"
  },
  "language_info": {
   "codemirror_mode": {
    "name": "ipython",
    "version": 3
   },
   "file_extension": ".py",
   "mimetype": "text/x-python",
   "name": "python",
   "nbconvert_exporter": "python",
   "pygments_lexer": "ipython3",
   "version": "3.9.5"
  },
  "orig_nbformat": 4
 },
 "nbformat": 4,
 "nbformat_minor": 2
}
