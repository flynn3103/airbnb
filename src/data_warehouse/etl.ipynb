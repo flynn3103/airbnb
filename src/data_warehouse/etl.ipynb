{
 "cells": [
  {
   "cell_type": "code",
   "execution_count": 3,
   "metadata": {},
   "outputs": [
    {
     "data": {
      "text/plain": [
       "'2.9.3 (dt dec pq3 ext lo64)'"
      ]
     },
     "execution_count": 3,
     "metadata": {},
     "output_type": "execute_result"
    }
   ],
   "source": [
    "%load_ext autoreload\n",
    "%autoreload 2\n",
    "\n",
    "import pathlib\n",
    "import psycopg2\n",
    "import psycopg2.extras\n",
    "import pandas as pd\n",
    "\n",
    "from create_table import init_database_and_tables\n",
    "\n",
    "from sql_queries import (\n",
    "    review_insert, review_check,\n",
    "    calendar_insert, calendar_check,\n",
    "    listings_insert, listings_check,\n",
    "    reviewer_insert, reviewer_check,\n",
    "    time_insert, time_check\n",
    ")\n",
    "\n",
    "psycopg2.__version__"
   ]
  },
  {
   "cell_type": "code",
   "execution_count": 10,
   "metadata": {},
   "outputs": [],
   "source": [
    "# import numpy as np\n",
    "# from psycopg2.extensions import register_adapter, AsIs\n",
    "\n",
    "# def addapt_numpy_array(numpy_array):\n",
    "#     return AsIs(tuple(numpy_array))\n",
    "\n",
    "# register_adapter(np.ndarray, addapt_numpy_array)"
   ]
  },
  {
   "cell_type": "code",
   "execution_count": 51,
   "metadata": {},
   "outputs": [],
   "source": [
    "init_database_and_tables()"
   ]
  },
  {
   "cell_type": "code",
   "execution_count": 15,
   "metadata": {},
   "outputs": [
    {
     "name": "stdout",
     "output_type": "stream",
     "text": [
      "PostgreSQL server information\n",
      "{'user': 'airbnb', 'channel_binding': 'prefer', 'dbname': 'airbnbdb', 'host': '172.21.0.2', 'port': '5432', 'options': '', 'sslmode': 'prefer', 'sslcompression': '0', 'sslsni': '1', 'ssl_min_protocol_version': 'TLSv1.2', 'gssencmode': 'prefer', 'krbsrvname': 'postgres', 'target_session_attrs': 'any'} \n",
      "\n"
     ]
    }
   ],
   "source": [
    "conn = psycopg2.connect(\"host=172.21.0.2 dbname=airbnbdb port=5432 user=airbnb password=airbnb\")\n",
    "\n",
    "print(\"PostgreSQL server information\")\n",
    "print(conn.get_dsn_parameters(), \"\\n\")\n",
    "\n",
    "cur = conn.cursor()"
   ]
  },
  {
   "cell_type": "code",
   "execution_count": 13,
   "metadata": {},
   "outputs": [],
   "source": [
    "def execute_values(conn, df, table):\n",
    "    \"\"\"\n",
    "    Using psycopg2.extras.execute_values() to insert the dataframe\n",
    "    \"\"\"\n",
    "    # Create a list of tupples from the dataframe values\n",
    "    tuples = [tuple(x) for x in df.to_numpy()]\n",
    "    # Comma-separated dataframe columns\n",
    "    cols = ','.join(list(df.columns))\n",
    "    # SQL quert to execute\n",
    "    query  = \"INSERT INTO %s(%s) VALUES %%s ON CONFLICT DO NOTHING\" % (table, cols)\n",
    "    cursor = conn.cursor()\n",
    "    try:\n",
    "        psycopg2.extras.execute_values(cursor, query, tuples)\n",
    "        conn.commit()\n",
    "    except (Exception, psycopg2.DatabaseError) as error:\n",
    "        print(\"Error: %s\" % error)\n",
    "        conn.rollback()\n",
    "        cursor.close()\n",
    "        return 1\n",
    "    print(\"execute_values() done\")\n",
    "    cursor.close()"
   ]
  },
  {
   "cell_type": "markdown",
   "metadata": {},
   "source": [
    "# Merge Data"
   ]
  },
  {
   "cell_type": "code",
   "execution_count": 27,
   "metadata": {},
   "outputs": [],
   "source": [
    "listings_March = pd.read_csv(\"../../data/listings.csv\")\n",
    "listings_June = pd.read_csv(\"../../data/listings_1.csv\")\n",
    "listings_September = pd.read_csv(\"../../data/listings_2.csv\")\n",
    "listings_December = pd.read_csv(\"../../data/listings_3.csv\")\n",
    "\n",
    "calendar_March = pd.read_csv(\"../../data/calendar.csv\")\n",
    "calendar_June = pd.read_csv(\"../../data/calendar_1.csv\")\n",
    "calendar_September = pd.read_csv(\"../../data/calendar_2.csv\")\n",
    "calendar_December = pd.read_csv(\"../../data/calendar_3.csv\")\n",
    "\n",
    "reivew_March = pd.read_csv(\"../../data/reviews.csv\")\n",
    "reivew_June = pd.read_csv(\"../../data/reviews_1.csv\")\n",
    "reivew_September = pd.read_csv(\"../../data/reviews_2.csv\")\n",
    "reivew_December = pd.read_csv(\"../../data/reviews_3.csv\")\n",
    "\n",
    "\n",
    "listings_list = [listings_March, listings_June, listings_September, listings_December]\n",
    "calendar_list = [calendar_June]\n",
    "review_list = [reivew_March]\n",
    "\n",
    "listings = pd.concat(listings_list)\n",
    "calendar = pd.concat(calendar_list)\n",
    "review = pd.concat(review_list)"
   ]
  },
  {
   "cell_type": "code",
   "execution_count": 28,
   "metadata": {},
   "outputs": [
    {
     "data": {
      "text/plain": [
       "(56846, 74)"
      ]
     },
     "execution_count": 28,
     "metadata": {},
     "output_type": "execute_result"
    }
   ],
   "source": [
    "listings.shape"
   ]
  },
  {
   "cell_type": "code",
   "execution_count": 53,
   "metadata": {},
   "outputs": [
    {
     "data": {
      "text/html": [
       "<div>\n",
       "<style scoped>\n",
       "    .dataframe tbody tr th:only-of-type {\n",
       "        vertical-align: middle;\n",
       "    }\n",
       "\n",
       "    .dataframe tbody tr th {\n",
       "        vertical-align: top;\n",
       "    }\n",
       "\n",
       "    .dataframe thead th {\n",
       "        text-align: right;\n",
       "    }\n",
       "</style>\n",
       "<table border=\"1\" class=\"dataframe\">\n",
       "  <thead>\n",
       "    <tr style=\"text-align: right;\">\n",
       "      <th></th>\n",
       "      <th>listing_id</th>\n",
       "      <th>date</th>\n",
       "      <th>available</th>\n",
       "      <th>price</th>\n",
       "      <th>adjusted_price</th>\n",
       "      <th>minimum_nights</th>\n",
       "      <th>maximum_nights</th>\n",
       "    </tr>\n",
       "  </thead>\n",
       "  <tbody>\n",
       "    <tr>\n",
       "      <th>0</th>\n",
       "      <td>304189</td>\n",
       "      <td>2021-06-06</td>\n",
       "      <td>f</td>\n",
       "      <td>$135.00</td>\n",
       "      <td>$135.00</td>\n",
       "      <td>2.0</td>\n",
       "      <td>1125.0</td>\n",
       "    </tr>\n",
       "    <tr>\n",
       "      <th>1</th>\n",
       "      <td>62801</td>\n",
       "      <td>2021-06-06</td>\n",
       "      <td>f</td>\n",
       "      <td>$750.00</td>\n",
       "      <td>$750.00</td>\n",
       "      <td>30.0</td>\n",
       "      <td>30.0</td>\n",
       "    </tr>\n",
       "    <tr>\n",
       "      <th>2</th>\n",
       "      <td>62801</td>\n",
       "      <td>2021-06-07</td>\n",
       "      <td>f</td>\n",
       "      <td>$750.00</td>\n",
       "      <td>$750.00</td>\n",
       "      <td>30.0</td>\n",
       "      <td>30.0</td>\n",
       "    </tr>\n",
       "    <tr>\n",
       "      <th>3</th>\n",
       "      <td>62801</td>\n",
       "      <td>2021-06-08</td>\n",
       "      <td>f</td>\n",
       "      <td>$750.00</td>\n",
       "      <td>$750.00</td>\n",
       "      <td>30.0</td>\n",
       "      <td>30.0</td>\n",
       "    </tr>\n",
       "    <tr>\n",
       "      <th>4</th>\n",
       "      <td>62801</td>\n",
       "      <td>2021-06-09</td>\n",
       "      <td>f</td>\n",
       "      <td>$750.00</td>\n",
       "      <td>$750.00</td>\n",
       "      <td>30.0</td>\n",
       "      <td>30.0</td>\n",
       "    </tr>\n",
       "  </tbody>\n",
       "</table>\n",
       "</div>"
      ],
      "text/plain": [
       "   listing_id        date available    price adjusted_price  minimum_nights  \\\n",
       "0      304189  2021-06-06         f  $135.00        $135.00             2.0   \n",
       "1       62801  2021-06-06         f  $750.00        $750.00            30.0   \n",
       "2       62801  2021-06-07         f  $750.00        $750.00            30.0   \n",
       "3       62801  2021-06-08         f  $750.00        $750.00            30.0   \n",
       "4       62801  2021-06-09         f  $750.00        $750.00            30.0   \n",
       "\n",
       "   maximum_nights  \n",
       "0          1125.0  \n",
       "1            30.0  \n",
       "2            30.0  \n",
       "3            30.0  \n",
       "4            30.0  "
      ]
     },
     "execution_count": 53,
     "metadata": {},
     "output_type": "execute_result"
    }
   ],
   "source": [
    "calendar.head()"
   ]
  },
  {
   "cell_type": "code",
   "execution_count": 30,
   "metadata": {},
   "outputs": [
    {
     "data": {
      "text/plain": [
       "(438265, 6)"
      ]
     },
     "execution_count": 30,
     "metadata": {},
     "output_type": "execute_result"
    }
   ],
   "source": [
    "review.shape"
   ]
  },
  {
   "cell_type": "markdown",
   "metadata": {},
   "source": [
    "# Reviewer table"
   ]
  },
  {
   "cell_type": "code",
   "execution_count": 7,
   "metadata": {},
   "outputs": [
    {
     "data": {
      "text/html": [
       "<div>\n",
       "<style scoped>\n",
       "    .dataframe tbody tr th:only-of-type {\n",
       "        vertical-align: middle;\n",
       "    }\n",
       "\n",
       "    .dataframe tbody tr th {\n",
       "        vertical-align: top;\n",
       "    }\n",
       "\n",
       "    .dataframe thead th {\n",
       "        text-align: right;\n",
       "    }\n",
       "</style>\n",
       "<table border=\"1\" class=\"dataframe\">\n",
       "  <thead>\n",
       "    <tr style=\"text-align: right;\">\n",
       "      <th></th>\n",
       "      <th>reviewer_id</th>\n",
       "      <th>reviewer_name</th>\n",
       "    </tr>\n",
       "  </thead>\n",
       "  <tbody>\n",
       "    <tr>\n",
       "      <th>0</th>\n",
       "      <td>10952</td>\n",
       "      <td>Lam</td>\n",
       "    </tr>\n",
       "    <tr>\n",
       "      <th>1</th>\n",
       "      <td>12798</td>\n",
       "      <td>Alice</td>\n",
       "    </tr>\n",
       "    <tr>\n",
       "      <th>2</th>\n",
       "      <td>11869</td>\n",
       "      <td>Natalja</td>\n",
       "    </tr>\n",
       "    <tr>\n",
       "      <th>3</th>\n",
       "      <td>14064</td>\n",
       "      <td>Enrique</td>\n",
       "    </tr>\n",
       "    <tr>\n",
       "      <th>4</th>\n",
       "      <td>17977</td>\n",
       "      <td>Sherwin</td>\n",
       "    </tr>\n",
       "    <tr>\n",
       "      <th>...</th>\n",
       "      <td>...</td>\n",
       "      <td>...</td>\n",
       "    </tr>\n",
       "    <tr>\n",
       "      <th>272051</th>\n",
       "      <td>23491429</td>\n",
       "      <td>Marie-Eve</td>\n",
       "    </tr>\n",
       "    <tr>\n",
       "      <th>272052</th>\n",
       "      <td>234433792</td>\n",
       "      <td>Charles</td>\n",
       "    </tr>\n",
       "    <tr>\n",
       "      <th>272053</th>\n",
       "      <td>249850060</td>\n",
       "      <td>Emilien</td>\n",
       "    </tr>\n",
       "    <tr>\n",
       "      <th>272054</th>\n",
       "      <td>80402031</td>\n",
       "      <td>Jasna</td>\n",
       "    </tr>\n",
       "    <tr>\n",
       "      <th>272055</th>\n",
       "      <td>146394047</td>\n",
       "      <td>Julie Katina</td>\n",
       "    </tr>\n",
       "  </tbody>\n",
       "</table>\n",
       "<p>1518086 rows × 2 columns</p>\n",
       "</div>"
      ],
      "text/plain": [
       "        reviewer_id reviewer_name\n",
       "0             10952           Lam\n",
       "1             12798         Alice\n",
       "2             11869       Natalja\n",
       "3             14064       Enrique\n",
       "4             17977       Sherwin\n",
       "...             ...           ...\n",
       "272051     23491429     Marie-Eve\n",
       "272052    234433792       Charles\n",
       "272053    249850060       Emilien\n",
       "272054     80402031         Jasna\n",
       "272055    146394047  Julie Katina\n",
       "\n",
       "[1518086 rows x 2 columns]"
      ]
     },
     "execution_count": 7,
     "metadata": {},
     "output_type": "execute_result"
    }
   ],
   "source": [
    "reviewer_table = review[[\"reviewer_id\", \"reviewer_name\"]]\n",
    "reviewer_table"
   ]
  },
  {
   "cell_type": "code",
   "execution_count": 8,
   "metadata": {},
   "outputs": [
    {
     "data": {
      "text/plain": [
       "reviewer_id      0\n",
       "reviewer_name    0\n",
       "dtype: int64"
      ]
     },
     "execution_count": 8,
     "metadata": {},
     "output_type": "execute_result"
    }
   ],
   "source": [
    "reviewer_table.isna().sum()"
   ]
  },
  {
   "cell_type": "code",
   "execution_count": 19,
   "metadata": {},
   "outputs": [
    {
     "name": "stdout",
     "output_type": "stream",
     "text": [
      "execute_values() done\n"
     ]
    }
   ],
   "source": [
    "execute_values(conn, reviewer_table, table='reviewer')"
   ]
  },
  {
   "cell_type": "code",
   "execution_count": 20,
   "metadata": {},
   "outputs": [
    {
     "name": "stdout",
     "output_type": "stream",
     "text": [
      "(10952, 'Lam')\n",
      "(12798, 'Alice')\n",
      "(11869, 'Natalja')\n",
      "(14064, 'Enrique')\n",
      "(17977, 'Sherwin')\n"
     ]
    }
   ],
   "source": [
    "cur.execute(reviewer_check)\n",
    "\n",
    "for row in cur.fetchall():\n",
    "    print(row)"
   ]
  },
  {
   "cell_type": "markdown",
   "metadata": {},
   "source": [
    "# Time table"
   ]
  },
  {
   "cell_type": "code",
   "execution_count": 31,
   "metadata": {},
   "outputs": [
    {
     "name": "stderr",
     "output_type": "stream",
     "text": [
      "/tmp/ipykernel_11121/1529482266.py:2: SettingWithCopyWarning: \n",
      "A value is trying to be set on a copy of a slice from a DataFrame.\n",
      "Try using .loc[row_indexer,col_indexer] = value instead\n",
      "\n",
      "See the caveats in the documentation: https://pandas.pydata.org/pandas-docs/stable/user_guide/indexing.html#returning-a-view-versus-a-copy\n",
      "  time_table[\"date\"] = pd.to_datetime(time_table.date, format='%Y-%m-%d')\n"
     ]
    }
   ],
   "source": [
    "time_table = calendar[[\"date\"]]\n",
    "time_table[\"date\"] = pd.to_datetime(time_table.date, format='%Y-%m-%d')"
   ]
  },
  {
   "cell_type": "code",
   "execution_count": 32,
   "metadata": {},
   "outputs": [],
   "source": [
    "t = time_table['date']\n",
    "dt = t.dt"
   ]
  },
  {
   "cell_type": "code",
   "execution_count": 33,
   "metadata": {},
   "outputs": [],
   "source": [
    "time_data = (t, dt.day, dt.month, dt.year, dt.isocalendar().week, dt.weekday)\n",
    "column_labels = (\"date_time\", \"day\", \"month\", \"year\", \"week\",\"dayofweek\")"
   ]
  },
  {
   "cell_type": "code",
   "execution_count": 34,
   "metadata": {},
   "outputs": [
    {
     "data": {
      "text/html": [
       "<div>\n",
       "<style scoped>\n",
       "    .dataframe tbody tr th:only-of-type {\n",
       "        vertical-align: middle;\n",
       "    }\n",
       "\n",
       "    .dataframe tbody tr th {\n",
       "        vertical-align: top;\n",
       "    }\n",
       "\n",
       "    .dataframe thead th {\n",
       "        text-align: right;\n",
       "    }\n",
       "</style>\n",
       "<table border=\"1\" class=\"dataframe\">\n",
       "  <thead>\n",
       "    <tr style=\"text-align: right;\">\n",
       "      <th></th>\n",
       "      <th>date_time</th>\n",
       "      <th>day</th>\n",
       "      <th>month</th>\n",
       "      <th>year</th>\n",
       "      <th>week</th>\n",
       "      <th>dayofweek</th>\n",
       "    </tr>\n",
       "  </thead>\n",
       "  <tbody>\n",
       "    <tr>\n",
       "      <th>0</th>\n",
       "      <td>2021-06-06</td>\n",
       "      <td>6</td>\n",
       "      <td>6</td>\n",
       "      <td>2021</td>\n",
       "      <td>22</td>\n",
       "      <td>6</td>\n",
       "    </tr>\n",
       "    <tr>\n",
       "      <th>1</th>\n",
       "      <td>2021-06-06</td>\n",
       "      <td>6</td>\n",
       "      <td>6</td>\n",
       "      <td>2021</td>\n",
       "      <td>22</td>\n",
       "      <td>6</td>\n",
       "    </tr>\n",
       "    <tr>\n",
       "      <th>2</th>\n",
       "      <td>2021-06-07</td>\n",
       "      <td>7</td>\n",
       "      <td>6</td>\n",
       "      <td>2021</td>\n",
       "      <td>23</td>\n",
       "      <td>0</td>\n",
       "    </tr>\n",
       "    <tr>\n",
       "      <th>3</th>\n",
       "      <td>2021-06-08</td>\n",
       "      <td>8</td>\n",
       "      <td>6</td>\n",
       "      <td>2021</td>\n",
       "      <td>23</td>\n",
       "      <td>1</td>\n",
       "    </tr>\n",
       "    <tr>\n",
       "      <th>4</th>\n",
       "      <td>2021-06-09</td>\n",
       "      <td>9</td>\n",
       "      <td>6</td>\n",
       "      <td>2021</td>\n",
       "      <td>23</td>\n",
       "      <td>2</td>\n",
       "    </tr>\n",
       "  </tbody>\n",
       "</table>\n",
       "</div>"
      ],
      "text/plain": [
       "   date_time  day  month  year  week  dayofweek\n",
       "0 2021-06-06    6      6  2021    22          6\n",
       "1 2021-06-06    6      6  2021    22          6\n",
       "2 2021-06-07    7      6  2021    23          0\n",
       "3 2021-06-08    8      6  2021    23          1\n",
       "4 2021-06-09    9      6  2021    23          2"
      ]
     },
     "execution_count": 34,
     "metadata": {},
     "output_type": "execute_result"
    }
   ],
   "source": [
    "time_df = pd.DataFrame({k: v for k, v in zip(column_labels, time_data)})\n",
    "time_df.head()"
   ]
  },
  {
   "cell_type": "code",
   "execution_count": 35,
   "metadata": {},
   "outputs": [
    {
     "name": "stdout",
     "output_type": "stream",
     "text": [
      "execute_values() done\n"
     ]
    }
   ],
   "source": [
    "execute_values(conn, time_df, table='time')"
   ]
  },
  {
   "cell_type": "code",
   "execution_count": 36,
   "metadata": {},
   "outputs": [
    {
     "name": "stdout",
     "output_type": "stream",
     "text": [
      "(datetime.datetime(2021, 6, 6, 0, 0), 6, 6, 2021, 22, 6)\n",
      "(datetime.datetime(2021, 6, 7, 0, 0), 7, 6, 2021, 23, 0)\n",
      "(datetime.datetime(2021, 6, 8, 0, 0), 8, 6, 2021, 23, 1)\n",
      "(datetime.datetime(2021, 6, 9, 0, 0), 9, 6, 2021, 23, 2)\n",
      "(datetime.datetime(2021, 6, 10, 0, 0), 10, 6, 2021, 23, 3)\n"
     ]
    }
   ],
   "source": [
    "cur.execute(time_check)\n",
    "\n",
    "for row in cur.fetchall():\n",
    "    print(row)"
   ]
  },
  {
   "cell_type": "markdown",
   "metadata": {},
   "source": [
    "# Listings"
   ]
  },
  {
   "cell_type": "code",
   "execution_count": 7,
   "metadata": {},
   "outputs": [],
   "source": [
    "col = [ 'id',\n",
    "        'name' ,\n",
    "        'room_type',\n",
    "        'number_of_reviews' ,\n",
    "        'review_scores_rating',\n",
    "        'review_scores_value',\n",
    "        'host_id' ,\n",
    "        'host_name' ,\n",
    "        'host_is_superhost',\n",
    "        'host_listings_count' ,\n",
    "        'neighbourhood',\n",
    "        'property_type' ,\n",
    "        'accommodates' ,\n",
    "        'availability_30' ,\n",
    "        'bathrooms_text',\n",
    "        'bedrooms' ,\n",
    "        'beds',\n",
    "        'price' ,\n",
    "        'minimum_nights',\n",
    "        'maximum_nights',\n",
    "        ]\n",
    "\n",
    "listings_table = listings[col]"
   ]
  },
  {
   "cell_type": "code",
   "execution_count": 8,
   "metadata": {},
   "outputs": [
    {
     "name": "stderr",
     "output_type": "stream",
     "text": [
      "/tmp/ipykernel_11121/3008764699.py:6: SettingWithCopyWarning: \n",
      "A value is trying to be set on a copy of a slice from a DataFrame.\n",
      "Try using .loc[row_indexer,col_indexer] = value instead\n",
      "\n",
      "See the caveats in the documentation: https://pandas.pydata.org/pandas-docs/stable/user_guide/indexing.html#returning-a-view-versus-a-copy\n",
      "  listings_table[col] = listings_table[col].apply(lambda x: str(re.compile('[a-zA-Z]').sub('', str(x))))\n",
      "/tmp/ipykernel_11121/3008764699.py:7: SettingWithCopyWarning: \n",
      "A value is trying to be set on a copy of a slice from a DataFrame.\n",
      "Try using .loc[row_indexer,col_indexer] = value instead\n",
      "\n",
      "See the caveats in the documentation: https://pandas.pydata.org/pandas-docs/stable/user_guide/indexing.html#returning-a-view-versus-a-copy\n",
      "  listings_table[col] = listings_table[col].apply(lambda x: str(re.compile(' ').sub('', str(x))))\n"
     ]
    }
   ],
   "source": [
    "# Importing regex\n",
    "import re\n",
    "\n",
    "bath = [\"bathrooms_text\"]\n",
    "for col in bath:\n",
    "    listings_table[col] = listings_table[col].apply(lambda x: str(re.compile('[a-zA-Z]').sub('', str(x))))\n",
    "    listings_table[col] = listings_table[col].apply(lambda x: str(re.compile(' ').sub('', str(x))))"
   ]
  },
  {
   "cell_type": "code",
   "execution_count": 9,
   "metadata": {},
   "outputs": [
    {
     "name": "stderr",
     "output_type": "stream",
     "text": [
      "/tmp/ipykernel_11121/4152102839.py:1: SettingWithCopyWarning: \n",
      "A value is trying to be set on a copy of a slice from a DataFrame.\n",
      "Try using .loc[row_indexer,col_indexer] = value instead\n",
      "\n",
      "See the caveats in the documentation: https://pandas.pydata.org/pandas-docs/stable/user_guide/indexing.html#returning-a-view-versus-a-copy\n",
      "  listings_table[\"bathrooms\"] = pd.to_numeric(listings_table[\"bathrooms_text\"],errors='coerce')\n",
      "/tmp/ipykernel_11121/4152102839.py:2: SettingWithCopyWarning: \n",
      "A value is trying to be set on a copy of a slice from a DataFrame\n",
      "\n",
      "See the caveats in the documentation: https://pandas.pydata.org/pandas-docs/stable/user_guide/indexing.html#returning-a-view-versus-a-copy\n",
      "  listings_table.drop(['bathrooms_text'], axis=1, inplace=True)\n"
     ]
    }
   ],
   "source": [
    "listings_table[\"bathrooms\"] = pd.to_numeric(listings_table[\"bathrooms_text\"],errors='coerce')\n",
    "listings_table.drop(['bathrooms_text'], axis=1, inplace=True)"
   ]
  },
  {
   "cell_type": "code",
   "execution_count": 10,
   "metadata": {},
   "outputs": [
    {
     "name": "stderr",
     "output_type": "stream",
     "text": [
      "/tmp/ipykernel_11121/4006336846.py:3: SettingWithCopyWarning: \n",
      "A value is trying to be set on a copy of a slice from a DataFrame.\n",
      "Try using .loc[row_indexer,col_indexer] = value instead\n",
      "\n",
      "See the caveats in the documentation: https://pandas.pydata.org/pandas-docs/stable/user_guide/indexing.html#returning-a-view-versus-a-copy\n",
      "  listings_table['price'] = listings_table['price'].str.replace(',', '')\n",
      "/tmp/ipykernel_11121/4006336846.py:4: FutureWarning: The default value of regex will change from True to False in a future version. In addition, single character regular expressions will *not* be treated as literal strings when regex=True.\n",
      "  listings_table['price'] = listings_table['price'].str.replace('$', '')\n",
      "/tmp/ipykernel_11121/4006336846.py:4: SettingWithCopyWarning: \n",
      "A value is trying to be set on a copy of a slice from a DataFrame.\n",
      "Try using .loc[row_indexer,col_indexer] = value instead\n",
      "\n",
      "See the caveats in the documentation: https://pandas.pydata.org/pandas-docs/stable/user_guide/indexing.html#returning-a-view-versus-a-copy\n",
      "  listings_table['price'] = listings_table['price'].str.replace('$', '')\n",
      "/tmp/ipykernel_11121/4006336846.py:5: SettingWithCopyWarning: \n",
      "A value is trying to be set on a copy of a slice from a DataFrame.\n",
      "Try using .loc[row_indexer,col_indexer] = value instead\n",
      "\n",
      "See the caveats in the documentation: https://pandas.pydata.org/pandas-docs/stable/user_guide/indexing.html#returning-a-view-versus-a-copy\n",
      "  listings_table['price'] = listings_table['price'].astype(float)\n"
     ]
    }
   ],
   "source": [
    "# The price fields in our data frame\n",
    "\n",
    "listings_table['price'] = listings_table['price'].str.replace(',', '')\n",
    "listings_table['price'] = listings_table['price'].str.replace('$', '')\n",
    "listings_table['price'] = listings_table['price'].astype(float)"
   ]
  },
  {
   "cell_type": "code",
   "execution_count": 46,
   "metadata": {},
   "outputs": [
    {
     "name": "stderr",
     "output_type": "stream",
     "text": [
      "/home/flynn/.cache/pypoetry/virtualenvs/airbnb-EHIZReGs-py3.9/lib/python3.9/site-packages/numpy/lib/nanfunctions.py:1216: RuntimeWarning: Mean of empty slice\n",
      "  return np.nanmean(a, axis, out=out, keepdims=keepdims)\n"
     ]
    }
   ],
   "source": [
    "for col in ['bathrooms', 'bedrooms', 'beds']:\n",
    "    listings[col].fillna(listings[col].median(), inplace=True)"
   ]
  },
  {
   "cell_type": "code",
   "execution_count": 40,
   "metadata": {},
   "outputs": [
    {
     "data": {
      "text/plain": [
       "id                        int64\n",
       "name                     object\n",
       "room_type                object\n",
       "number_of_reviews         int64\n",
       "review_scores_rating    float64\n",
       "review_scores_value     float64\n",
       "host_id                   int64\n",
       "host_name                object\n",
       "host_is_superhost        object\n",
       "host_listings_count     float64\n",
       "neighbourhood            object\n",
       "property_type            object\n",
       "accommodates              int64\n",
       "availability_30           int64\n",
       "bedrooms                float64\n",
       "beds                    float64\n",
       "price                   float64\n",
       "minimum_nights            int64\n",
       "maximum_nights            int64\n",
       "bathrooms               float64\n",
       "dtype: object"
      ]
     },
     "execution_count": 40,
     "metadata": {},
     "output_type": "execute_result"
    }
   ],
   "source": [
    "listings_table.dtypes"
   ]
  },
  {
   "cell_type": "code",
   "execution_count": 37,
   "metadata": {},
   "outputs": [
    {
     "data": {
      "text/plain": [
       "Index(['id', 'name', 'room_type', 'number_of_reviews', 'review_scores_rating',\n",
       "       'review_scores_value', 'host_id', 'host_name', 'host_is_superhost',\n",
       "       'host_listings_count', 'neighbourhood', 'property_type', 'accommodates',\n",
       "       'availability_30', 'bedrooms', 'beds', 'price', 'minimum_nights',\n",
       "       'maximum_nights', 'bathrooms'],\n",
       "      dtype='object')"
      ]
     },
     "execution_count": 37,
     "metadata": {},
     "output_type": "execute_result"
    }
   ],
   "source": [
    "listings_table.columns"
   ]
  },
  {
   "cell_type": "code",
   "execution_count": 38,
   "metadata": {},
   "outputs": [
    {
     "data": {
      "text/html": [
       "<div>\n",
       "<style scoped>\n",
       "    .dataframe tbody tr th:only-of-type {\n",
       "        vertical-align: middle;\n",
       "    }\n",
       "\n",
       "    .dataframe tbody tr th {\n",
       "        vertical-align: top;\n",
       "    }\n",
       "\n",
       "    .dataframe thead th {\n",
       "        text-align: right;\n",
       "    }\n",
       "</style>\n",
       "<table border=\"1\" class=\"dataframe\">\n",
       "  <thead>\n",
       "    <tr style=\"text-align: right;\">\n",
       "      <th></th>\n",
       "      <th>id</th>\n",
       "      <th>name</th>\n",
       "      <th>room_type</th>\n",
       "      <th>number_of_reviews</th>\n",
       "      <th>review_scores_rating</th>\n",
       "      <th>review_scores_value</th>\n",
       "      <th>host_id</th>\n",
       "      <th>host_name</th>\n",
       "      <th>host_is_superhost</th>\n",
       "      <th>host_listings_count</th>\n",
       "      <th>neighbourhood</th>\n",
       "      <th>property_type</th>\n",
       "      <th>accommodates</th>\n",
       "      <th>availability_30</th>\n",
       "      <th>bedrooms</th>\n",
       "      <th>beds</th>\n",
       "      <th>price</th>\n",
       "      <th>minimum_nights</th>\n",
       "      <th>maximum_nights</th>\n",
       "      <th>bathrooms</th>\n",
       "    </tr>\n",
       "  </thead>\n",
       "  <tbody>\n",
       "    <tr>\n",
       "      <th>0</th>\n",
       "      <td>2818</td>\n",
       "      <td>Quiet Garden View Room &amp; Super Fast WiFi</td>\n",
       "      <td>Private room</td>\n",
       "      <td>278</td>\n",
       "      <td>98.0</td>\n",
       "      <td>10.0</td>\n",
       "      <td>3159</td>\n",
       "      <td>Daniel</td>\n",
       "      <td>t</td>\n",
       "      <td>1.0</td>\n",
       "      <td>Amsterdam, North Holland, Netherlands</td>\n",
       "      <td>Private room in apartment</td>\n",
       "      <td>2</td>\n",
       "      <td>19</td>\n",
       "      <td>1.0</td>\n",
       "      <td>2.0</td>\n",
       "      <td>59.0</td>\n",
       "      <td>3</td>\n",
       "      <td>1125</td>\n",
       "      <td>1.5</td>\n",
       "    </tr>\n",
       "    <tr>\n",
       "      <th>1</th>\n",
       "      <td>20168</td>\n",
       "      <td>Studio with private bathroom in the centre 1</td>\n",
       "      <td>Private room</td>\n",
       "      <td>339</td>\n",
       "      <td>89.0</td>\n",
       "      <td>9.0</td>\n",
       "      <td>59484</td>\n",
       "      <td>Alexander</td>\n",
       "      <td>f</td>\n",
       "      <td>2.0</td>\n",
       "      <td>Amsterdam, North Holland, Netherlands</td>\n",
       "      <td>Private room in townhouse</td>\n",
       "      <td>2</td>\n",
       "      <td>0</td>\n",
       "      <td>1.0</td>\n",
       "      <td>1.0</td>\n",
       "      <td>149.0</td>\n",
       "      <td>1</td>\n",
       "      <td>365</td>\n",
       "      <td>1.0</td>\n",
       "    </tr>\n",
       "    <tr>\n",
       "      <th>2</th>\n",
       "      <td>25428</td>\n",
       "      <td>Lovely, spacious 1 bed apt in Center(with lift)</td>\n",
       "      <td>Entire home/apt</td>\n",
       "      <td>5</td>\n",
       "      <td>100.0</td>\n",
       "      <td>10.0</td>\n",
       "      <td>56142</td>\n",
       "      <td>Joan</td>\n",
       "      <td>t</td>\n",
       "      <td>2.0</td>\n",
       "      <td>NaN</td>\n",
       "      <td>Entire apartment</td>\n",
       "      <td>3</td>\n",
       "      <td>29</td>\n",
       "      <td>1.0</td>\n",
       "      <td>1.0</td>\n",
       "      <td>125.0</td>\n",
       "      <td>14</td>\n",
       "      <td>180</td>\n",
       "      <td>1.0</td>\n",
       "    </tr>\n",
       "    <tr>\n",
       "      <th>3</th>\n",
       "      <td>27886</td>\n",
       "      <td>Romantic, stylish B&amp;B houseboat in canal district</td>\n",
       "      <td>Private room</td>\n",
       "      <td>219</td>\n",
       "      <td>99.0</td>\n",
       "      <td>10.0</td>\n",
       "      <td>97647</td>\n",
       "      <td>Flip</td>\n",
       "      <td>t</td>\n",
       "      <td>1.0</td>\n",
       "      <td>Amsterdam, North Holland, Netherlands</td>\n",
       "      <td>Private room in houseboat</td>\n",
       "      <td>2</td>\n",
       "      <td>1</td>\n",
       "      <td>1.0</td>\n",
       "      <td>1.0</td>\n",
       "      <td>123.0</td>\n",
       "      <td>2</td>\n",
       "      <td>730</td>\n",
       "      <td>1.5</td>\n",
       "    </tr>\n",
       "    <tr>\n",
       "      <th>4</th>\n",
       "      <td>28871</td>\n",
       "      <td>Comfortable double room</td>\n",
       "      <td>Private room</td>\n",
       "      <td>336</td>\n",
       "      <td>97.0</td>\n",
       "      <td>10.0</td>\n",
       "      <td>124245</td>\n",
       "      <td>Edwin</td>\n",
       "      <td>t</td>\n",
       "      <td>2.0</td>\n",
       "      <td>Amsterdam, North Holland, Netherlands</td>\n",
       "      <td>Private room in apartment</td>\n",
       "      <td>2</td>\n",
       "      <td>27</td>\n",
       "      <td>1.0</td>\n",
       "      <td>1.0</td>\n",
       "      <td>75.0</td>\n",
       "      <td>2</td>\n",
       "      <td>1825</td>\n",
       "      <td>1.0</td>\n",
       "    </tr>\n",
       "  </tbody>\n",
       "</table>\n",
       "</div>"
      ],
      "text/plain": [
       "      id                                               name        room_type  \\\n",
       "0   2818           Quiet Garden View Room & Super Fast WiFi     Private room   \n",
       "1  20168       Studio with private bathroom in the centre 1     Private room   \n",
       "2  25428    Lovely, spacious 1 bed apt in Center(with lift)  Entire home/apt   \n",
       "3  27886  Romantic, stylish B&B houseboat in canal district     Private room   \n",
       "4  28871                            Comfortable double room     Private room   \n",
       "\n",
       "   number_of_reviews  review_scores_rating  review_scores_value  host_id  \\\n",
       "0                278                  98.0                 10.0     3159   \n",
       "1                339                  89.0                  9.0    59484   \n",
       "2                  5                 100.0                 10.0    56142   \n",
       "3                219                  99.0                 10.0    97647   \n",
       "4                336                  97.0                 10.0   124245   \n",
       "\n",
       "   host_name host_is_superhost  host_listings_count  \\\n",
       "0     Daniel                 t                  1.0   \n",
       "1  Alexander                 f                  2.0   \n",
       "2       Joan                 t                  2.0   \n",
       "3       Flip                 t                  1.0   \n",
       "4      Edwin                 t                  2.0   \n",
       "\n",
       "                           neighbourhood              property_type  \\\n",
       "0  Amsterdam, North Holland, Netherlands  Private room in apartment   \n",
       "1  Amsterdam, North Holland, Netherlands  Private room in townhouse   \n",
       "2                                    NaN           Entire apartment   \n",
       "3  Amsterdam, North Holland, Netherlands  Private room in houseboat   \n",
       "4  Amsterdam, North Holland, Netherlands  Private room in apartment   \n",
       "\n",
       "   accommodates  availability_30  bedrooms  beds  price  minimum_nights  \\\n",
       "0             2               19       1.0   2.0   59.0               3   \n",
       "1             2                0       1.0   1.0  149.0               1   \n",
       "2             3               29       1.0   1.0  125.0              14   \n",
       "3             2                1       1.0   1.0  123.0               2   \n",
       "4             2               27       1.0   1.0   75.0               2   \n",
       "\n",
       "   maximum_nights  bathrooms  \n",
       "0            1125        1.5  \n",
       "1             365        1.0  \n",
       "2             180        1.0  \n",
       "3             730        1.5  \n",
       "4            1825        1.0  "
      ]
     },
     "execution_count": 38,
     "metadata": {},
     "output_type": "execute_result"
    }
   ],
   "source": [
    "listings_table.head()"
   ]
  },
  {
   "cell_type": "code",
   "execution_count": 16,
   "metadata": {},
   "outputs": [
    {
     "name": "stdout",
     "output_type": "stream",
     "text": [
      "Error: column \"review_scores_rating\" of relation \"listings\" does not exist\n",
      "LINE 1: ...INTO listings(id,name,room_type,number_of_reviews,review_sco...\n",
      "                                                             ^\n",
      "\n"
     ]
    },
    {
     "data": {
      "text/plain": [
       "1"
      ]
     },
     "execution_count": 16,
     "metadata": {},
     "output_type": "execute_result"
    }
   ],
   "source": [
    "execute_values(conn, listings_table, table='listings')"
   ]
  },
  {
   "cell_type": "code",
   "execution_count": null,
   "metadata": {},
   "outputs": [],
   "source": [
    "cur.execute(listings_check)\n",
    "\n",
    "for row in cur.fetchall():\n",
    "    print(row)"
   ]
  },
  {
   "cell_type": "markdown",
   "metadata": {},
   "source": [
    "# Calendar"
   ]
  },
  {
   "cell_type": "code",
   "execution_count": 54,
   "metadata": {},
   "outputs": [],
   "source": [
    "col = ['listing_id',\n",
    "        'date',\n",
    "        'available',\n",
    "        'adjusted_price']\n",
    "\n",
    "calendar_table = calendar[col]"
   ]
  },
  {
   "cell_type": "code",
   "execution_count": 55,
   "metadata": {},
   "outputs": [
    {
     "name": "stderr",
     "output_type": "stream",
     "text": [
      "/tmp/ipykernel_11121/2756646630.py:2: FutureWarning: The default value of regex will change from True to False in a future version. In addition, single character regular expressions will *not* be treated as literal strings when regex=True.\n",
      "  calendar['adjusted_price'] = calendar['adjusted_price'].str.replace('$', '')\n"
     ]
    }
   ],
   "source": [
    "calendar['adjusted_price'] = calendar['adjusted_price'].str.replace(',', '')\n",
    "calendar['adjusted_price'] = calendar['adjusted_price'].str.replace('$', '')\n",
    "calendar['price'] = calendar['adjusted_price'].astype(float)"
   ]
  },
  {
   "cell_type": "code",
   "execution_count": 56,
   "metadata": {},
   "outputs": [
    {
     "ename": "InterfaceError",
     "evalue": "connection already closed",
     "output_type": "error",
     "traceback": [
      "\u001b[0;31m---------------------------------------------------------------------------\u001b[0m",
      "\u001b[0;31mInterfaceError\u001b[0m                            Traceback (most recent call last)",
      "Input \u001b[0;32mIn [56]\u001b[0m, in \u001b[0;36m<module>\u001b[0;34m\u001b[0m\n\u001b[0;32m----> 1\u001b[0m \u001b[43mexecute_values\u001b[49m\u001b[43m(\u001b[49m\u001b[43mconn\u001b[49m\u001b[43m,\u001b[49m\u001b[43m \u001b[49m\u001b[43mcalendar_table\u001b[49m\u001b[43m,\u001b[49m\u001b[43m \u001b[49m\u001b[43mtable\u001b[49m\u001b[38;5;241;43m=\u001b[39;49m\u001b[38;5;124;43m'\u001b[39;49m\u001b[38;5;124;43mcalendar\u001b[39;49m\u001b[38;5;124;43m'\u001b[39;49m\u001b[43m)\u001b[49m\n",
      "Input \u001b[0;32mIn [13]\u001b[0m, in \u001b[0;36mexecute_values\u001b[0;34m(conn, df, table)\u001b[0m\n\u001b[1;32m      9\u001b[0m \u001b[38;5;66;03m# SQL quert to execute\u001b[39;00m\n\u001b[1;32m     10\u001b[0m query  \u001b[38;5;241m=\u001b[39m \u001b[38;5;124m\"\u001b[39m\u001b[38;5;124mINSERT INTO \u001b[39m\u001b[38;5;132;01m%s\u001b[39;00m\u001b[38;5;124m(\u001b[39m\u001b[38;5;132;01m%s\u001b[39;00m\u001b[38;5;124m) VALUES \u001b[39m\u001b[38;5;132;01m%%\u001b[39;00m\u001b[38;5;124ms ON CONFLICT DO NOTHING\u001b[39m\u001b[38;5;124m\"\u001b[39m \u001b[38;5;241m%\u001b[39m (table, cols)\n\u001b[0;32m---> 11\u001b[0m cursor \u001b[38;5;241m=\u001b[39m \u001b[43mconn\u001b[49m\u001b[38;5;241;43m.\u001b[39;49m\u001b[43mcursor\u001b[49m\u001b[43m(\u001b[49m\u001b[43m)\u001b[49m\n\u001b[1;32m     12\u001b[0m \u001b[38;5;28;01mtry\u001b[39;00m:\n\u001b[1;32m     13\u001b[0m     psycopg2\u001b[38;5;241m.\u001b[39mextras\u001b[38;5;241m.\u001b[39mexecute_values(cursor, query, tuples)\n",
      "\u001b[0;31mInterfaceError\u001b[0m: connection already closed"
     ]
    }
   ],
   "source": [
    "execute_values(conn, calendar_table, table='calendar')"
   ]
  },
  {
   "cell_type": "code",
   "execution_count": null,
   "metadata": {},
   "outputs": [],
   "source": [
    "cur.execute(calendar_check)\n",
    "\n",
    "for row in cur.fetchall():\n",
    "    print(row)"
   ]
  },
  {
   "cell_type": "markdown",
   "metadata": {},
   "source": [
    "# Review"
   ]
  },
  {
   "cell_type": "code",
   "execution_count": null,
   "metadata": {},
   "outputs": [],
   "source": [
    "col = ['listings_id',\n",
    "        'review_id',\n",
    "        'date',\n",
    "        'comment']\n",
    "\n",
    "review_table = review[col]"
   ]
  },
  {
   "cell_type": "code",
   "execution_count": null,
   "metadata": {},
   "outputs": [],
   "source": [
    "execute_values(conn, review_table, table='review')"
   ]
  },
  {
   "cell_type": "code",
   "execution_count": null,
   "metadata": {},
   "outputs": [],
   "source": [
    "cur.execute(review_check)\n",
    "\n",
    "for row in cur.fetchall():\n",
    "    print(row)"
   ]
  },
  {
   "cell_type": "code",
   "execution_count": 50,
   "metadata": {},
   "outputs": [],
   "source": [
    "conn.close ()"
   ]
  }
 ],
 "metadata": {
  "interpreter": {
   "hash": "246db97e1b28c1ad6970c1454fc9a6ffe0a039b45cbb6d78e6e9157e5d2ec3af"
  },
  "kernelspec": {
   "display_name": "Python 3.9.5 ('airbnb-EHIZReGs-py3.9')",
   "language": "python",
   "name": "python3"
  },
  "language_info": {
   "codemirror_mode": {
    "name": "ipython",
    "version": 3
   },
   "file_extension": ".py",
   "mimetype": "text/x-python",
   "name": "python",
   "nbconvert_exporter": "python",
   "pygments_lexer": "ipython3",
   "version": "3.9.5"
  },
  "orig_nbformat": 4
 },
 "nbformat": 4,
 "nbformat_minor": 2
}
